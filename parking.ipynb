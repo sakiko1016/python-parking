{
 "cells": [
  {
   "cell_type": "code",
   "execution_count": 6,
   "id": "b0097826",
   "metadata": {},
   "outputs": [],
   "source": [
    "class ParkingGarage:\n",
    "    def __init__(self, tickets, parkingSpaces, currentTicket):\n",
    "        self.tickets = tickets\n",
    "        self.parkingSpaces = parkingSpaces\n",
    "        self.currentTicket = currentTicket\n",
    "\n",
    "    def takeTicket(self):\n",
    "        if len(self.tickets) > 0:\n",
    "            ticket = self.tickets.pop()\n",
    "            parking_space = self.parkingSpaces.pop()\n",
    "            self.currentTicket[ticket] = {\"paid\": False, \"parking_space\": parking_space}\n",
    "\n",
    "    def payForParking(self):\n",
    "        ticket = input(\"Please enter your ticket number: \")\n",
    "        if ticket in self.currentTicket.keys():\n",
    "            amount = input(\"Please enter amount to pay: \")\n",
    "            if amount:\n",
    "                self.currentTicket[ticket][\"paid\"] = True\n",
    "                print(\"Your ticket has been paid. You have 15 minutes to leave.\")\n",
    "        else:\n",
    "            print(\"Invalid ticket number.\")\n",
    "\n",
    "    def leaveGarage(self):\n",
    "        ticket = input(\"Please enter your ticket number: \")\n",
    "        if ticket in self.currentTicket.keys():\n",
    "            if self.currentTicket[ticket][\"paid\"]:\n",
    "                print(\"Thank you, have a nice day!\")\n",
    "                self.parkingSpaces.append(self.currentTicket[ticket][\"parking_space\"])\n",
    "                self.tickets.append(ticket)\n",
    "            else:\n",
    "                self.payForParking()\n",
    "        else:\n",
    "            print(\"Invalid ticket number.\")"
   ]
  },
  {
   "cell_type": "code",
   "execution_count": null,
   "id": "872220d1",
   "metadata": {},
   "outputs": [],
   "source": []
  }
 ],
 "metadata": {
  "kernelspec": {
   "display_name": "Python 3 (ipykernel)",
   "language": "python",
   "name": "python3"
  },
  "language_info": {
   "codemirror_mode": {
    "name": "ipython",
    "version": 3
   },
   "file_extension": ".py",
   "mimetype": "text/x-python",
   "name": "python",
   "nbconvert_exporter": "python",
   "pygments_lexer": "ipython3",
   "version": "3.11.4"
  }
 },
 "nbformat": 4,
 "nbformat_minor": 5
}
